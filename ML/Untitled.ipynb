{
 "cells": [
  {
   "cell_type": "code",
   "execution_count": 1,
   "id": "04e349e9-d3f4-4517-9907-5d13db8aede2",
   "metadata": {},
   "outputs": [],
   "source": [
    "import numpy as np"
   ]
  },
  {
   "cell_type": "code",
   "execution_count": 2,
   "id": "065025b3-c422-4a38-94bf-3674ac4b9b56",
   "metadata": {},
   "outputs": [],
   "source": [
    "import math"
   ]
  },
  {
   "cell_type": "code",
   "execution_count": 3,
   "id": "77f4fb4f-ecb1-4dd7-b6b9-faf5191220fe",
   "metadata": {},
   "outputs": [],
   "source": [
    "vals = [5, 9]"
   ]
  },
  {
   "cell_type": "code",
   "execution_count": 5,
   "id": "69a8acc7-9acc-4888-94a2-e2813d06eebd",
   "metadata": {},
   "outputs": [
    {
     "data": {
      "text/plain": [
       "14"
      ]
     },
     "execution_count": 5,
     "metadata": {},
     "output_type": "execute_result"
    }
   ],
   "source": [
    "sum(vals)"
   ]
  },
  {
   "cell_type": "code",
   "execution_count": 9,
   "id": "f02ae1c7-f76e-430b-b822-657129d0b636",
   "metadata": {},
   "outputs": [],
   "source": [
    "def computeCE(vals):\n",
    "    CE = 0\n",
    "    for val in vals:\n",
    "        p = val/sum(vals)\n",
    "        CE -= p * math.log2(p)\n",
    "    print(CE)"
   ]
  },
  {
   "cell_type": "code",
   "execution_count": 10,
   "id": "869a0378-0e33-4170-bf9c-5b7ffda49252",
   "metadata": {},
   "outputs": [
    {
     "name": "stdout",
     "output_type": "stream",
     "text": [
      "0.9402859586706311\n",
      "0.9852281360342515\n",
      "0.5916727785823275\n",
      "0.8112781244591328\n",
      "1.0\n"
     ]
    }
   ],
   "source": [
    "computeCE([5, 9])\n",
    "computeCE([3, 4])\n",
    "computeCE([6, 1])\n",
    "computeCE([6, 2])\n",
    "computeCE([3, 3])"
   ]
  },
  {
   "cell_type": "code",
   "execution_count": null,
   "id": "6f857618-6bf5-4bc2-81fd-1949d43e2cbc",
   "metadata": {},
   "outputs": [],
   "source": []
  }
 ],
 "metadata": {
  "kernelspec": {
   "display_name": "Python 3 (ipykernel)",
   "language": "python",
   "name": "python3"
  },
  "language_info": {
   "codemirror_mode": {
    "name": "ipython",
    "version": 3
   },
   "file_extension": ".py",
   "mimetype": "text/x-python",
   "name": "python",
   "nbconvert_exporter": "python",
   "pygments_lexer": "ipython3",
   "version": "3.8.10"
  }
 },
 "nbformat": 4,
 "nbformat_minor": 5
}
